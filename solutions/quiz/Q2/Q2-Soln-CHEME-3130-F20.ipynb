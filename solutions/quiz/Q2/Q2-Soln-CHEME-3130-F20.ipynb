{
 "cells": [
  {
   "cell_type": "markdown",
   "metadata": {},
   "source": [
    "### Quiz 2: Solution CHEME 3130 Fall 2020"
   ]
  },
  {
   "cell_type": "markdown",
   "metadata": {},
   "source": [
    "<img src=\"./figs/Fig-Q2-Part-a-F20.png\" width=\"500\"/>"
   ]
  },
  {
   "cell_type": "markdown",
   "metadata": {},
   "source": [
    "#### Problem"
   ]
  },
  {
   "cell_type": "markdown",
   "metadata": {},
   "source": [
    "#### Solution and Approach"
   ]
  },
  {
   "cell_type": "markdown",
   "metadata": {},
   "source": [
    "__a)__ Part a is a standard VCRC problem that can be solved using the open first and second law balances. However, unlike our typical VCRC problem, we are asked to solve for the circulation rate (mass flow rate of working fluid in this case R134A). From the open first law balance around the evaporator:\n",
    "\n",
    "\\begin{equation}\n",
    "\\dot{Q}+\\dot{W}_{sh} + \\sum_{s=1}^{\\mathcal{S}}\\nu_{s}\\dot{m}_{s}H_{s} = 0\n",
    "\\end{equation}\n",
    "\n",
    "we know that cooling rate is related to the enthalpy change by:\n",
    "\n",
    "\\begin{equation}\n",
    "\\dot{Q} = \\dot{m}\\Delta{H_{21}}\n",
    "\\end{equation}\n",
    "\n",
    "using our normal numbering of the operating points ($\\dot{W}_{sh}$=0 for an evaporator). We know the enthalpy $H_{2}$, but not $H_{1}$ (because we don't know the quality). However, we know that $H_{4}$ = $H_{1}$ because the throttle valve is constant enthalpy. Thus, we can solve for $\\dot{m}$:\n",
    "\n",
    "\\begin{equation}\n",
    "\\dot{m} = \\frac{\\dot{Q}}{\\Delta{H_{21}}}\n",
    "\\end{equation}\n",
    "\n",
    "where $H_{4}$ = $H_{1}$"
   ]
  },
  {
   "cell_type": "code",
   "execution_count": 10,
   "metadata": {},
   "outputs": [
    {
     "data": {
      "text/plain": [
       "0.041459369817578785"
      ]
     },
     "execution_count": 10,
     "metadata": {},
     "output_type": "execute_result"
    }
   ],
   "source": [
    "# cooling rate -\n",
    "Qdot = 5.0 # kJ/s\n",
    "\n",
    "# get the values from the R134a data sheet\n",
    "# At operting point 2:\n",
    "# P = 106.32 kPA\n",
    "# T = -25 C\n",
    "# S = 1.747 kJ/kg-K\n",
    "H2 = 383.7 # kJ/kg\n",
    "\n",
    "# At operating point 4: (H4 = H1)\n",
    "# P4 = 686.13 kPA\n",
    "# T4 = 26 C\n",
    "S4 = 1.1250 # kJ/kg-K\n",
    "H4 = 263.1 # kJ/kg\n",
    "\n",
    "# compute mdot -\n",
    "mdot_a = (Qdot)/(H2-H4)"
   ]
  },
  {
   "cell_type": "markdown",
   "metadata": {},
   "source": [
    "<img src=\"./figs/Fig-Q2-Part-b-F20.png\" width=\"500\"/>"
   ]
  },
  {
   "cell_type": "markdown",
   "metadata": {},
   "source": [
    "__b)__ In part b we replace the throttle valve with a turbine, and are asked to recompute the mass flow rate of R134a. The same first law expression applies _except_ $H_{4}\\neq{H}_{1}$. However, we can compute the quality $\\theta$ using the fact that the turbine is constant entropy i.e., $S_{4}$ = $S_{1}$. Using the quality we can get $H_{1}$:\n",
    "\n",
    "\\begin{equation}\n",
    "H_{1} = (1-\\theta)H^{l}+\\theta{H^{v}}\n",
    "\\end{equation}\n",
    "\n",
    "where $H^{v}$ and $H^{l}$ denote the saturated vapor and liquid enthalpy at T = -25$^{\\circ}$C."
   ]
  },
  {
   "cell_type": "code",
   "execution_count": 4,
   "metadata": {},
   "outputs": [
    {
     "data": {
      "text/plain": [
       "0.28669724770642196"
      ]
     },
     "execution_count": 4,
     "metadata": {},
     "output_type": "execute_result"
    }
   ],
   "source": [
    "# Compute the quality -\n",
    "Sl = 0.8750 # kJ/kg-K\n",
    "Sv = 1.747 # kJ/kg-K\n",
    "𝛳 = (S4 - Sl)/(Sv-Sl)"
   ]
  },
  {
   "cell_type": "code",
   "execution_count": 6,
   "metadata": {},
   "outputs": [
    {
     "data": {
      "text/plain": [
       "229.3412844036697"
      ]
     },
     "execution_count": 6,
     "metadata": {},
     "output_type": "execute_result"
    }
   ],
   "source": [
    "# compute H1 -\n",
    "Hl = 167.3 # kJ/kg\n",
    "Hv = 383.7 # kJ/kg\n",
    "H1 = (1-𝛳)*Hl+𝛳*Hv"
   ]
  },
  {
   "cell_type": "code",
   "execution_count": 11,
   "metadata": {},
   "outputs": [
    {
     "data": {
      "text/plain": [
       "0.03239208087916268"
      ]
     },
     "execution_count": 11,
     "metadata": {},
     "output_type": "execute_result"
    }
   ],
   "source": [
    "# compute the mdot -\n",
    "mdot_b = (Qdot)/(H2-H1)"
   ]
  },
  {
   "cell_type": "markdown",
   "metadata": {},
   "source": [
    "<img src=\"./figs/Fig-Q2-Part-c-F20.png\" width=\"500\"/>"
   ]
  },
  {
   "cell_type": "markdown",
   "metadata": {},
   "source": [
    "__c)__ In part c) we add a counter current heat exchanger between the condenser and the throttle value which takes heat from the liquid stream (call it $\\dot{Q}_{4}$) and gives it to the vapor stream (call it $\\dot{Q}_{2}$). If no heat is lost, then $\\dot{Q}_{4}$ = $\\dot{Q}_{2}$ which gives:\n",
    "\n",
    "\\begin{equation}\n",
    "-\\Delta{H_{4c,4}} = \\Delta{H_{2c,2}}\n",
    "\\end{equation}\n",
    "\n",
    "because the mass flow rates cancel since they are the same. We can use this matching condition to find the enthalpy of the stream exiting the heat exchanger ($H_{4c}$):\n",
    "\n",
    "\\begin{equation}\n",
    "H_{4c} = H_{4} - \\left(H_{2c}-H_{2}\\right)\n",
    "\\end{equation}\n",
    "\n",
    "which is equal to $H_{1}$ because the throttle valve is constant enthalpy, i.e., $H_{4c}$ = $H_{1}$. Once we have $H_{1}$ we can solve for $\\dot{m}$."
   ]
  },
  {
   "cell_type": "code",
   "execution_count": 8,
   "metadata": {},
   "outputs": [
    {
     "data": {
      "text/plain": [
       "226.3"
      ]
     },
     "execution_count": 8,
     "metadata": {},
     "output_type": "execute_result"
    }
   ],
   "source": [
    "# find H2c - enthalpy of the vapor stream exiting the heat excanger at 20C -\n",
    "# we are superheated - we heated a saturated vapor, so we kept moving to the right on the PH diagram\n",
    "# The R134a data sheet doesnt have a P = 106.32 kPA entry, \n",
    "# so we need to interpolate between P = 101 and P = 110, but the values are close so lets use the 110 valu\n",
    "H2c = 420.5 # kJ/kg\n",
    "H4c = H4 - (H2c-H2)"
   ]
  },
  {
   "cell_type": "code",
   "execution_count": 12,
   "metadata": {},
   "outputs": [
    {
     "data": {
      "text/plain": [
       "0.03176620076238882"
      ]
     },
     "execution_count": 12,
     "metadata": {},
     "output_type": "execute_result"
    }
   ],
   "source": [
    "# Solve for mdot -\n",
    "mdot_c = 5.0/(H2-H4c)"
   ]
  },
  {
   "cell_type": "markdown",
   "metadata": {},
   "source": [
    "__d)__ In part d) we were asked to compute the coefficient of performance for each of the cycle configurations. In each case, the $\\dot{Q}$ that we moving is the same, but the work required to do it could potentially change because the conditions of the stream entering into the compressor changes. "
   ]
  },
  {
   "cell_type": "code",
   "execution_count": 13,
   "metadata": {},
   "outputs": [
    {
     "data": {
      "text/plain": [
       "1.5899668325041474"
      ]
     },
     "execution_count": 13,
     "metadata": {},
     "output_type": "execute_result"
    }
   ],
   "source": [
    "# traditional VCRC -\n",
    "# To get the enthalpy for H3 (exiting the compressor) we need to use the entropy matching, some interpolation\n",
    "# on the superheated tables -\n",
    "H3 = 422.05 # kJ/kg\n",
    "Wa = mdot_a*(H3-H2)"
   ]
  },
  {
   "cell_type": "code",
   "execution_count": 14,
   "metadata": {},
   "outputs": [
    {
     "data": {
      "text/plain": [
       "3.1447196870925658"
      ]
     },
     "execution_count": 14,
     "metadata": {},
     "output_type": "execute_result"
    }
   ],
   "source": [
    "# compute the COP for a)\n",
    "ω_a = 5.0/Wa"
   ]
  },
  {
   "cell_type": "code",
   "execution_count": 17,
   "metadata": {},
   "outputs": [
    {
     "data": {
      "text/plain": [
       "1.2422363017158895"
      ]
     },
     "execution_count": 17,
     "metadata": {},
     "output_type": "execute_result"
    }
   ],
   "source": [
    "# Modification 1: Add turbine in place of a throttle value - same enthalpy drop across the turbine, but diff\n",
    "# mass flow rate -\n",
    "Wb = mdot_b*(H3-H2)"
   ]
  },
  {
   "cell_type": "code",
   "execution_count": 18,
   "metadata": {},
   "outputs": [
    {
     "data": {
      "text/plain": [
       "4.024999102903004"
      ]
     },
     "execution_count": 18,
     "metadata": {},
     "output_type": "execute_result"
    }
   ],
   "source": [
    "# compute the COP for b)\n",
    "ω_b = 5.0/Wb"
   ]
  },
  {
   "cell_type": "code",
   "execution_count": 21,
   "metadata": {},
   "outputs": [
    {
     "data": {
      "text/plain": [
       "0.049237611181703035"
      ]
     },
     "execution_count": 21,
     "metadata": {},
     "output_type": "execute_result"
    }
   ],
   "source": [
    "# Modification 2: Heat exchanger - we'll have a different compressor enthalpy drop because the entry into the\n",
    "# compressor stream is different -\n",
    "Wc = mdot_c*(H3-H2c)"
   ]
  },
  {
   "cell_type": "code",
   "execution_count": 22,
   "metadata": {},
   "outputs": [
    {
     "data": {
      "text/plain": [
       "101.54838709677344"
      ]
     },
     "execution_count": 22,
     "metadata": {},
     "output_type": "execute_result"
    }
   ],
   "source": [
    "# compute the COP for c)\n",
    "ω_c = 5.0/Wc"
   ]
  }
 ],
 "metadata": {
  "kernelspec": {
   "display_name": "Julia 1.5.1",
   "language": "julia",
   "name": "julia-1.5"
  },
  "language_info": {
   "file_extension": ".jl",
   "mimetype": "application/julia",
   "name": "julia",
   "version": "1.5.2"
  }
 },
 "nbformat": 4,
 "nbformat_minor": 2
}
