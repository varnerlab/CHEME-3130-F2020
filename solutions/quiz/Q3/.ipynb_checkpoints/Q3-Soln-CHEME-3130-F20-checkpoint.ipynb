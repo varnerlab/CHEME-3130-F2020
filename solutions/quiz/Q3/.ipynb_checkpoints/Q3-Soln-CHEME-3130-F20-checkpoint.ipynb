{
 "cells": [
  {
   "cell_type": "markdown",
   "metadata": {},
   "source": [
    "### Quiz 3: Solution CHEME 3130 Fall 2020"
   ]
  },
  {
   "cell_type": "markdown",
   "metadata": {},
   "source": [
    "#### Part a) Derivation (see SVN Example 7.5). Highlights\n",
    "We were given:\n",
    "\n",
    "\\begin{equation}\n",
    "\\mu_{JT} = -\\frac{1}{C_{P}}\\left(\\frac{\\partial{H}}{\\partial{P}}\\right)_{T}\n",
    "\\end{equation}\n",
    "\n",
    "Lets tackle the enthalpy term. Starting from FPR for enthalpy, $dH$ = $TdS+VdP$, divide through by dP and then hold T constant:\n",
    "\n",
    "\\begin{equation}\n",
    "\\left(\\frac{\\partial{H}}{\\partial{P}}\\right)_{T} = T\\left(\\frac{\\partial{S}}{\\partial{P}}\\right)_{T}+V\n",
    "\\end{equation}\n",
    "\n",
    "However, we know that entropy term can be re-written as:\n",
    "\\begin{equation}\n",
    "\\left(\\frac{\\partial{S}}{\\partial{P}}\\right)_{T} = -\\left(\\frac{\\partial{V}}{\\partial{T}}\\right)_{P}\n",
    "\\end{equation}\n",
    "\n",
    "which gives:\n",
    "\n",
    "\\begin{equation}\n",
    "\\left(\\frac{\\partial{H}}{\\partial{P}}\\right)_{T} = V - T\\left(\\frac{\\partial{V}}{\\partial{T}}\\right)_{P}\n",
    "\\end{equation}\n",
    "\n",
    "To get this in terms of the compressibility Z, substitute V = ZRT/P into the enthalpy expression:\n",
    "\n",
    "\\begin{equation}\n",
    "\\left(\\frac{\\partial{H}}{\\partial{P}}\\right)_{T} = \\frac{ZRT}{P} - T\\left[\\frac{ZR}{P}+\\frac{RT}{P}\\left(\\frac{\\partial{Z}}{\\partial{T}}\\right)_{P}\\right]\n",
    "\\end{equation}\n",
    "\n",
    "But the first two terms cancel, leaving the desired final answer:\n",
    "\n",
    "\\begin{equation}\n",
    "\\mu_{JT} = \\frac{RT^{2}}{PC_{P}}\\left(\\frac{\\partial{Z}}{\\partial{T}}\\right)_{P}\n",
    "\\end{equation}\n"
   ]
  },
  {
   "cell_type": "markdown",
   "metadata": {},
   "source": [
    "#### Part b) What is the $\\mu_{JT}$ for an ideal gas?\n",
    "There a couple of ways to do this. First, we know that:\n",
    "\n",
    "\\begin{equation}\n",
    "\\mu_{JT} = -\\frac{1}{C_{P}}\\left(\\frac{\\partial{H}}{\\partial{P}}\\right)_{T}\n",
    "\\end{equation}\n",
    "\n",
    "but\n",
    "\n",
    "\\begin{equation}\n",
    "\\left(\\frac{\\partial{H}}{\\partial{P}}\\right)_{T} = V - T\\left(\\frac{\\partial{V}}{\\partial{T}}\\right)_{P}\n",
    "\\end{equation}\n",
    "\n",
    "Thus, we can use the ideal gas law to compute the derivative term, and then plug in the volume from the IGL:\n",
    "\n",
    "\\begin{equation}\n",
    "\\left(\\frac{\\partial{H}}{\\partial{P}}\\right)_{T} = \\frac{RT}{P} - T\\left(\\frac{R}{P}\\right)\n",
    "\\end{equation}\n",
    "\n",
    "all terms cancel. Alternatively, we know that Z = 1 for an ideal gas, thus any derivative of Z will vanish."
   ]
  },
  {
   "cell_type": "markdown",
   "metadata": {},
   "source": [
    "#### Part c) Estimate the $\\mu_{JT}$ for Methane at P = 3 MPa and T = 400K (Numerical Strategy)\n",
    "\n",
    "There are a couple of ways to do this calculation. The challenge is that V(T,P) appears in the compressibility $Z$ expression, but we do not have an explicit form for it as van der Waals (vdW) is a Cubic Equation of State (CEOS) this we cannnot solve for the volume explicitly. However, we can compute the compressibility derivative numerically e.g.,\n",
    "\n",
    "\\begin{equation}\n",
    "\\left(\\frac{\\partial{Z}}{\\partial{T}}\\right)_{P}\\simeq\\frac{Z\\left(T+\\Delta{T},P\\right)-Z\\left(T,P\\right)}{\\Delta{T}}\n",
    "\\end{equation}\n",
    "\n",
    "This is a [finite difference approximation](https://en.wikipedia.org/wiki/Finite_difference) of the derivative; in this particular case, a forward difference which comes directly from the definition of a [derivative in calculus](https://en.wikipedia.org/wiki/Derivative). However, to make this work, we'll need to numerically solve the vdW equation for $V\\left(T,P\\right)$ and $V\\left(T+\\Delta{T},P\\right)$.\n",
    "But we can poise that calculation as a minimization problem:\n",
    "\n",
    "\\begin{equation}\n",
    "\\min_{V} \\left[\\left(P-\\frac{RT}{V-b}+\\frac{a}{V^{2}}\\right)^2+\\gamma\\Bigl(\\max(0,-V)+\\max(0,-(V-b)\\Bigr)\\right]\n",
    "\\end{equation}"
   ]
  },
  {
   "cell_type": "code",
   "execution_count": 23,
   "metadata": {},
   "outputs": [
    {
     "name": "stderr",
     "output_type": "stream",
     "text": [
      "\u001b[32m\u001b[1m Activating\u001b[22m\u001b[39m environment at `~/Desktop/julia_work/CHEME-3130-F2020/Project.toml`\n"
     ]
    }
   ],
   "source": [
    "# Setup paths and environment -\n",
    "# YOU\"LL NEED TO CHANGE THIS TO WHERE YOU RUN LOCALLY -\n",
    "path_to_project_files = \"/Users/jeffreyvarner/Desktop/julia_work/CHEME-3130-F2020\"\n",
    "cd(path_to_project_files)\n",
    "\n",
    "# include files -\n",
    "include(\"Include.jl\");"
   ]
  },
  {
   "cell_type": "code",
   "execution_count": 19,
   "metadata": {},
   "outputs": [],
   "source": [
    "# Setup the volume estimation -\n",
    "Pc = 4.61   # MPa\n",
    "Vc = 0.0986 # L/mol\n",
    "Tc = 190.6  # K\n",
    "R = 8.313e-3 # L MPa mol^-1 K^-1\n",
    "ω = 0.253\n",
    "\n",
    "# build a working fluid model -\n",
    "methane_working_fluid_model = CCBESingleComponentWorkingFluid(Tc,Pc,Vc,ω; R=R);\n",
    "\n",
    "# Build a vdW equation of state from that working model -\n",
    "vdW_eos_model = buildVanDerWaalsEquationOfState(methane_working_fluid_model);"
   ]
  },
  {
   "cell_type": "code",
   "execution_count": 52,
   "metadata": {},
   "outputs": [],
   "source": [
    "# what is my 𝝙T?\n",
    "𝝙T = 5.0 # K\n",
    "TBase = 400; # K"
   ]
  },
  {
   "cell_type": "code",
   "execution_count": 64,
   "metadata": {},
   "outputs": [
    {
     "data": {
      "text/plain": [
       "1.0687317947614845"
      ]
     },
     "execution_count": 64,
     "metadata": {},
     "output_type": "execute_result"
    }
   ],
   "source": [
    "# estimate the volume at two T's -\n",
    "# base case: P = 3 MPa and T = 400K\n",
    "P1 = 3.0 # MPa\n",
    "T1 = TBase - 𝝙T  # K\n",
    "volume_1 = volume(vdW_eos_model,P1,T1; volumeGuess=1.0)"
   ]
  },
  {
   "cell_type": "code",
   "execution_count": 54,
   "metadata": {},
   "outputs": [
    {
     "data": {
      "text/plain": [
       "1.0982127953026493"
      ]
     },
     "execution_count": 54,
     "metadata": {},
     "output_type": "execute_result"
    }
   ],
   "source": [
    "# lets look at T + ΔT -\n",
    "P1 = 3.0 # MPa => remember pressure is constant in the derivative -\n",
    "T2 = TBase + 𝝙T # K => lets use a 5K diff\n",
    "volume_2 = volume(vdW_eos_model,P1,T2; volumeGuess=1.0)"
   ]
  },
  {
   "cell_type": "code",
   "execution_count": 55,
   "metadata": {},
   "outputs": [
    {
     "data": {
      "text/plain": [
       "(0.9764164970138045, 0.9785768789303102)"
      ]
     },
     "execution_count": 55,
     "metadata": {},
     "output_type": "execute_result"
    }
   ],
   "source": [
    "# Now that we have the volume estimates, we can compute the derivative -\n",
    "a = vdW_eos_model.a\n",
    "b = vdW_eos_model.b\n",
    "Z_vdW_1 = ((volume_1)/(volume_1 - b)) - a/(R*T1*volume_1)\n",
    "Z_vdW_2 = ((volume_2)/(volume_2 - b)) - a/(R*T2*volume_2)\n",
    "(Z_vdW_1,Z_vdW_2)"
   ]
  },
  {
   "cell_type": "code",
   "execution_count": 56,
   "metadata": {},
   "outputs": [
    {
     "data": {
      "text/plain": [
       "0.00021603819165056938"
      ]
     },
     "execution_count": 56,
     "metadata": {},
     "output_type": "execute_result"
    }
   ],
   "source": [
    "# compute the derivative using the Z_vdW terms -\n",
    "dZdT_c_P_vdW = (Z_vdW_2-Z_vdW_1)/(2*𝝙T)"
   ]
  },
  {
   "cell_type": "code",
   "execution_count": 65,
   "metadata": {},
   "outputs": [
    {
     "data": {
      "text/plain": [
       "2.357437672906631"
      ]
     },
     "execution_count": 65,
     "metadata": {},
     "output_type": "execute_result"
    }
   ],
   "source": [
    "# Compute \\mu_{JT} -\n",
    "Cp = 40.63*(0.001) # MPa-L/mol-K\n",
    "mu_JT = ((R*TBase^2)/(Cp*P1))*dZdT_c_P_vdW"
   ]
  },
  {
   "cell_type": "markdown",
   "metadata": {},
   "source": [
    "##### Part c) Alternative strategy 1: Instead of solving for the vdW volume numerically - could we use the IGL volume (and still compute the derivative numerically)?"
   ]
  },
  {
   "cell_type": "code",
   "execution_count": 58,
   "metadata": {},
   "outputs": [
    {
     "data": {
      "text/plain": [
       "(1.0945449999999999, 1.1222549999999998)"
      ]
     },
     "execution_count": 58,
     "metadata": {},
     "output_type": "execute_result"
    }
   ],
   "source": [
    "# compute the volumes w/the IGL -\n",
    "volume_1_IGL = (R*T1)/(P1)\n",
    "volume_2_IGL = (R*T2)/(P1)\n",
    "(volume_1_IGL,volume_2_IGL)"
   ]
  },
  {
   "cell_type": "code",
   "execution_count": 59,
   "metadata": {},
   "outputs": [
    {
     "data": {
      "text/plain": [
       "(0.9769323238617957, 0.9790011100108751)"
      ]
     },
     "execution_count": 59,
     "metadata": {},
     "output_type": "execute_result"
    }
   ],
   "source": [
    "# Use the IGL volumes in Z_vdW?\n",
    "Z_vdW_1_IGL = ((volume_1_IGL)/(volume_1_IGL - b)) - a/(R*T1*volume_1_IGL)\n",
    "Z_vdW_2_IGL = ((volume_2_IGL)/(volume_2_IGL - b)) - a/(R*T2*volume_2_IGL)\n",
    "(Z_vdW_1_IGL,Z_vdW_2_IGL)"
   ]
  },
  {
   "cell_type": "code",
   "execution_count": 60,
   "metadata": {},
   "outputs": [
    {
     "data": {
      "text/plain": [
       "0.00020687861490793492"
      ]
     },
     "execution_count": 60,
     "metadata": {},
     "output_type": "execute_result"
    }
   ],
   "source": [
    "# compute the dZdT_const_p w/the IGL volumes -\n",
    "dZdT_c_P_IGL = (Z_vdW_2_IGL-Z_vdW_1_IGL)/(2*𝝙T)"
   ]
  },
  {
   "cell_type": "code",
   "execution_count": 61,
   "metadata": {},
   "outputs": [
    {
     "data": {
      "text/plain": [
       "2.2574871451041596"
      ]
     },
     "execution_count": 61,
     "metadata": {},
     "output_type": "execute_result"
    }
   ],
   "source": [
    "# Compute \\mu_{JT} -\n",
    "Cp = 40.63*(0.001) # MPa-L/mol-K\n",
    "mu_JT = ((R*TBase^2)/(Cp*P1))*dZdT_c_P_IGL"
   ]
  },
  {
   "cell_type": "markdown",
   "metadata": {},
   "source": [
    "#### Part c) alternative strategy 2: Ott and Boerio-Goates 2000\n",
    "Replace the V(T,P) in the vdW compressibility with the Ideal Gas Law, then analytically compute the derivative which gives (Eqn 3.90):\n",
    "\n",
    "\\begin{equation}\n",
    "\\mu_{JT}\\simeq\\frac{1}{Cp}\\left[\\frac{2a}{RT}-b-\\frac{3abP}{R^{2}T^{2}}\\right]\n",
    "\\end{equation}"
   ]
  },
  {
   "cell_type": "code",
   "execution_count": 63,
   "metadata": {},
   "outputs": [
    {
     "data": {
      "text/plain": [
       "2.1458747300141843"
      ]
     },
     "execution_count": 63,
     "metadata": {},
     "output_type": "execute_result"
    }
   ],
   "source": [
    "# lets eval the Ott expression -\n",
    "mu_JT_Ott = (1/Cp)*((2*a)/(R*TBase) - b - (3*a*b*P1)/((R^2)*(TBase^2)))"
   ]
  }
 ],
 "metadata": {
  "kernelspec": {
   "display_name": "Julia 1.5.2",
   "language": "julia",
   "name": "julia-1.5"
  },
  "language_info": {
   "file_extension": ".jl",
   "mimetype": "application/julia",
   "name": "julia",
   "version": "1.5.2"
  }
 },
 "nbformat": 4,
 "nbformat_minor": 4
}
