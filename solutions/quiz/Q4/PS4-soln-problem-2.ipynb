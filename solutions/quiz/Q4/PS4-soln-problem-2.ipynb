{
 "cells": [
  {
   "cell_type": "markdown",
   "metadata": {},
   "source": [
    "### Estimate the mixed fugacity coefficients for a binary mixture of chloroform(1)/1,4-dioxane(2) at T = 323.15K and P = 24.95 kPa"
   ]
  },
  {
   "cell_type": "markdown",
   "metadata": {},
   "source": [
    "This is a binary system in VLE, so we can use the Prausnitz mixing model, generalized correlation and the Abbott model to compute the Virial coeffcients $B_{11},B_{22}$ and the mixed coefficient $B_{12}$. The binary mixed fugacity coefficients are given by:\n",
    "\n",
    "\\begin{eqnarray}\n",
    "\\ln\\hat{\\phi}_{1}^{v} & = & \\frac{P}{RT}\\left(B_{11}+y_{2}^{2}\\delta_{12}\\right)\\\\\n",
    "\\ln\\hat{\\phi}_{2}^{v} & = & \\frac{P}{RT}\\left(B_{22}+y_{1}^{2}\\delta_{12}\\right)\\\\\n",
    "\\end{eqnarray}\n",
    "\n",
    "where $\\delta_{ij}$ = $2B_{ij} - B_{ii} - B_{jj}$. The solution procedure is similar to SVN example 10.9"
   ]
  },
  {
   "cell_type": "code",
   "execution_count": 2,
   "metadata": {},
   "outputs": [],
   "source": [
    "# include -\n",
    "include(\"./src_problem_2/Soln.jl\");"
   ]
  },
  {
   "cell_type": "code",
   "execution_count": 3,
   "metadata": {},
   "outputs": [],
   "source": [
    "# Setup the problem -\n",
    "T_K = 323.15 \n",
    "P_bar = 0.2495 # bar (criticals are in bar)\n",
    "y1 = 0.6184 # from L25 data set \n",
    "(f1_hat,f2_hat,data_table) = solve(y1,T_K,P_bar);"
   ]
  },
  {
   "cell_type": "code",
   "execution_count": 4,
   "metadata": {},
   "outputs": [
    {
     "data": {
      "text/html": [
       "<table class=\"data-frame\"><thead><tr><th></th><th>Tc</th><th>Pc</th><th>Vc</th><th>Zc</th><th>wc</th><th>B</th></tr><tr><th></th><th>Float64</th><th>Float64</th><th>Float64</th><th>Float64</th><th>Float64</th><th>Float64</th></tr></thead><tbody><p>3 rows × 6 columns</p><tr><th>1</th><td>536.4</td><td>54.72</td><td>0.239</td><td>0.293</td><td>0.222</td><td>-0.942407</td></tr><tr><th>2</th><td>587.2</td><td>52.27</td><td>0.239</td><td>0.256</td><td>0.272</td><td>-1.44887</td></tr><tr><th>3</th><td>561.226</td><td>53.591</td><td>0.239</td><td>0.2745</td><td>0.247</td><td>-1.16232</td></tr></tbody></table>"
      ],
      "text/latex": [
       "\\begin{tabular}{r|cccccc}\n",
       "\t& Tc & Pc & Vc & Zc & wc & B\\\\\n",
       "\t\\hline\n",
       "\t& Float64 & Float64 & Float64 & Float64 & Float64 & Float64\\\\\n",
       "\t\\hline\n",
       "\t1 & 536.4 & 54.72 & 0.239 & 0.293 & 0.222 & -0.942407 \\\\\n",
       "\t2 & 587.2 & 52.27 & 0.239 & 0.256 & 0.272 & -1.44887 \\\\\n",
       "\t3 & 561.226 & 53.591 & 0.239 & 0.2745 & 0.247 & -1.16232 \\\\\n",
       "\\end{tabular}\n"
      ],
      "text/plain": [
       "3×6 DataFrame\n",
       "│ Row │ Tc      │ Pc      │ Vc      │ Zc      │ wc      │ B         │\n",
       "│     │ \u001b[90mFloat64\u001b[39m │ \u001b[90mFloat64\u001b[39m │ \u001b[90mFloat64\u001b[39m │ \u001b[90mFloat64\u001b[39m │ \u001b[90mFloat64\u001b[39m │ \u001b[90mFloat64\u001b[39m   │\n",
       "├─────┼─────────┼─────────┼─────────┼─────────┼─────────┼───────────┤\n",
       "│ 1   │ 536.4   │ 54.72   │ 0.239   │ 0.293   │ 0.222   │ -0.942407 │\n",
       "│ 2   │ 587.2   │ 52.27   │ 0.239   │ 0.256   │ 0.272   │ -1.44887  │\n",
       "│ 3   │ 561.226 │ 53.591  │ 0.239   │ 0.2745  │ 0.247   │ -1.16232  │"
      ]
     },
     "execution_count": 4,
     "metadata": {},
     "output_type": "execute_result"
    }
   ],
   "source": [
    "data_table"
   ]
  },
  {
   "cell_type": "code",
   "execution_count": 5,
   "metadata": {},
   "outputs": [
    {
     "data": {
      "text/plain": [
       "0.9906077429390138"
      ]
     },
     "execution_count": 5,
     "metadata": {},
     "output_type": "execute_result"
    }
   ],
   "source": [
    "f1_hat"
   ]
  },
  {
   "cell_type": "markdown",
   "metadata": {},
   "source": [
    "$\\hat{\\phi}^{v}_{1}\\simeq{1}$ so the vapor phase is ideal"
   ]
  },
  {
   "cell_type": "code",
   "execution_count": null,
   "metadata": {},
   "outputs": [],
   "source": []
  }
 ],
 "metadata": {
  "kernelspec": {
   "display_name": "Julia 1.5.2",
   "language": "julia",
   "name": "julia-1.5"
  },
  "language_info": {
   "file_extension": ".jl",
   "mimetype": "application/julia",
   "name": "julia",
   "version": "1.5.2"
  }
 },
 "nbformat": 4,
 "nbformat_minor": 4
}
