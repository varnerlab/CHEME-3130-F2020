{
 "cells": [
  {
   "cell_type": "markdown",
   "metadata": {},
   "source": [
    "### Flash problem: Estimate compostion analytically and graphically for an ideal flash seperation"
   ]
  },
  {
   "cell_type": "markdown",
   "metadata": {},
   "source": [
    "<img src=\"./figs/Graphical-Flash.pdf\">"
   ]
  },
  {
   "cell_type": "markdown",
   "metadata": {},
   "source": [
    "#### a) Estimate T\n",
    "You were given the [Antoine equation](https://en.wikipedia.org/wiki/Antoine_equation) parameters (and the equation). From the estimate of $P_{1}^{sat}$ from the Pxy diagram, you can estimate the T (in units of K). "
   ]
  },
  {
   "cell_type": "markdown",
   "metadata": {},
   "source": [
    "#### b) Estimate compositions and other data from the Pxy diagram\n",
    "See above. To estimate $\\dot{L}$ and $\\dot{V}$ you can compute $l$ and $v$ from the Pxy diagram, because you were given $\\dot{F}$, you can solve for $\\dot{V}$ and then $\\dot{L}$. In particular, we know that:\n",
    "\n",
    "$$\\frac{\\dot{L}}{\\dot{V}} = \\frac{l}{v}$$\n",
    "\n",
    "Let the ratio of $l/v\\equiv\\alpha$, then from the lever-rule, and the mass balance we get:\n",
    "\n",
    "$$\\dot{V} = \\frac{\\dot{F}}{\\left(1+\\alpha\\right)}$$\n",
    "\n",
    "We can solve for $\\dot{V}$, then $\\dot{L}$ is given by:\n",
    "\n",
    "$$\\dot{L} = \\dot{F} - \\dot{V}$$"
   ]
  },
  {
   "cell_type": "markdown",
   "metadata": {},
   "source": [
    "#### c) See code (L66 of Soln.jl)"
   ]
  },
  {
   "cell_type": "markdown",
   "metadata": {},
   "source": [
    "#### d) Check your graphical estimate\n",
    "All we are asking you to do is to compute $x_{j}$ using:\n",
    "\n",
    "$$x_{1} = \\frac{z_{1}}{\\frac{P_{i}^{sat}}{P}\\left(\\frac{\\dot{V}}{\\dot{L}}\\right)+\\frac{\\dot{L}}{\\dot{F}}}$$\n",
    "\n",
    "and then compute $y_{i}$ from:\n",
    "\n",
    "$$y_{i}P = x_{i}P_{i}^{sat}$$"
   ]
  },
  {
   "cell_type": "code",
   "execution_count": 4,
   "metadata": {},
   "outputs": [
    {
     "data": {
      "text/plain": [
       "Dict{Any,Any} with 9 entries:\n",
       "  \"z2_feed\"      => 0.58\n",
       "  \"z1_feed\"      => 0.42\n",
       "  \"F_dot\"        => 10.0\n",
       "  \"V_dot\"        => 4.08124\n",
       "  \"test_value\"   => 1.0037\n",
       "  \"L_dot\"        => 5.91876\n",
       "  \"x1_eq\"        => 0.347\n",
       "  \"y1_eq\"        => 0.525867\n",
       "  \"T_estimate_K\" => 243.059"
      ]
     },
     "execution_count": 4,
     "metadata": {},
     "output_type": "execute_result"
    }
   ],
   "source": [
    "# run the solution script -\n",
    "include(\"./src_problem_1/Soln.jl\")"
   ]
  },
  {
   "cell_type": "code",
   "execution_count": null,
   "metadata": {},
   "outputs": [],
   "source": []
  }
 ],
 "metadata": {
  "kernelspec": {
   "display_name": "Julia 1.5.2",
   "language": "julia",
   "name": "julia-1.5"
  },
  "language_info": {
   "file_extension": ".jl",
   "mimetype": "application/julia",
   "name": "julia",
   "version": "1.5.2"
  }
 },
 "nbformat": 4,
 "nbformat_minor": 4
}
