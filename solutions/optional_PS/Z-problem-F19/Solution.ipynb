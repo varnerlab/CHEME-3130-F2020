{
 "cells": [
  {
   "cell_type": "markdown",
   "metadata": {},
   "source": [
    "#### Cornellium is a new molecule discovered in the basement of Olin Hall. What is the molar volume of a pure sample of Cornellium at T = 510K and P = 25 bar?\n",
    "\n",
    "__Assume:__(i) 1 mol of Cornellium; (ii) Cornellium properties: T$_{c}$ = 425.2K, P$_{c}$ = 37.9 bar and $\\omega$ = 0.199; (iii) R = 8.314$\\times$10$^{-2}$ L bar K$^{-1}$ mol$^{-1}$"
   ]
  },
  {
   "cell_type": "code",
   "execution_count": 2,
   "metadata": {},
   "outputs": [
    {
     "name": "stderr",
     "output_type": "stream",
     "text": [
      "┌ Info: Precompiling DataFrames [a93c6f00-e57d-5684-b7b6-d8193f3e46c0]\n",
      "└ @ Base loading.jl:1278\n"
     ]
    }
   ],
   "source": [
    "# include (load) the soluntion code -\n",
    "include(\"./Soln-Q7.jl\");"
   ]
  },
  {
   "cell_type": "markdown",
   "metadata": {},
   "source": [
    "a) Estimate the compressibility of Cornellium at T = 510K and P = 25 bar using the model:\n",
    "\n",
    "\\begin{equation}\n",
    "Z = 1+\\frac{P_{r}}{T_{r}}B^{0}+\\omega\\frac{P_{r}}{T_{r}}B^{1}\n",
    "\\end{equation}\n",
    "    \n",
    "where:\n",
    "     \n",
    "\\begin{equation}\n",
    "B^{(0)} = 0.083 - 0.422T_{r}^{-1.6}\\qquad B^{(1)} = 0.139 - 0.172T_{r}^{-4.2}\n",
    "\\end{equation}\n",
    "     \n",
    "and $P_{r}, T_{r}$ denote the reduced pressure and temperature, respectively."
   ]
  },
  {
   "cell_type": "code",
   "execution_count": 3,
   "metadata": {},
   "outputs": [
    {
     "data": {
      "text/html": [
       "<table class=\"data-frame\"><thead><tr><th></th><th>Tr</th><th>Pr</th><th>B0</th><th>B1</th><th>Z0</th><th>Z1</th><th>Z</th></tr><tr><th></th><th>Float64</th><th>Float64</th><th>Float64</th><th>Float64</th><th>Float64</th><th>Float64</th><th>Float64</th></tr></thead><tbody><p>1 rows × 7 columns</p><tr><th>1</th><td>1.19944</td><td>0.659631</td><td>-0.232464</td><td>0.0588644</td><td>0.872156</td><td>0.0323725</td><td>0.878599</td></tr></tbody></table>"
      ],
      "text/latex": [
       "\\begin{tabular}{r|ccccccc}\n",
       "\t& Tr & Pr & B0 & B1 & Z0 & Z1 & Z\\\\\n",
       "\t\\hline\n",
       "\t& Float64 & Float64 & Float64 & Float64 & Float64 & Float64 & Float64\\\\\n",
       "\t\\hline\n",
       "\t1 & 1.19944 & 0.659631 & -0.232464 & 0.0588644 & 0.872156 & 0.0323725 & 0.878599 \\\\\n",
       "\\end{tabular}\n"
      ],
      "text/plain": [
       "1×7 DataFrame. Omitted printing of 1 columns\n",
       "│ Row │ Tr      │ Pr       │ B0        │ B1        │ Z0       │ Z1        │\n",
       "│     │ \u001b[90mFloat64\u001b[39m │ \u001b[90mFloat64\u001b[39m  │ \u001b[90mFloat64\u001b[39m   │ \u001b[90mFloat64\u001b[39m   │ \u001b[90mFloat64\u001b[39m  │ \u001b[90mFloat64\u001b[39m   │\n",
       "├─────┼─────────┼──────────┼───────────┼───────────┼──────────┼───────────┤\n",
       "│ 1   │ 1.19944 │ 0.659631 │ -0.232464 │ 0.0588644 │ 0.872156 │ 0.0323725 │"
      ]
     },
     "execution_count": 3,
     "metadata": {},
     "output_type": "execute_result"
    }
   ],
   "source": [
    "# evaluate the Z-model: i) compute T_{r}, P_{r}, B^{0}, B^{1} then Z\n",
    "T = 510.0 #K\n",
    "P = 25.0 #bar\n",
    "(Tr,Pr,B0,B1,Z0,Z1,Z) = compute_compressibility(T,P);\n",
    "\n",
    "# Build \"pretty\" table -\n",
    "part_a_table = DataFrame(Tr=Tr,Pr=Pr,B0=B0,B1=B1,Z0=Z0,Z1=Z1,Z=Z)"
   ]
  },
  {
   "cell_type": "markdown",
   "metadata": {},
   "source": [
    "b) Compute the _residual_ molar volume V$^{R}$ (L/mol) of Cornellium at T = 510K and P = 25 bar (show the derivation of V$^{R}$ for full credit)"
   ]
  },
  {
   "cell_type": "markdown",
   "metadata": {},
   "source": [
    "The residual volume V$^{R}$ is defined as:\n",
    "\n",
    "\\begin{equation}\n",
    "V^{R} = V - V^{ID}\n",
    "\\end{equation}\n",
    "\n",
    "where V$^{ID}$ denotes the _ideal_ molar volume. Rearranging the definition of $Z$ gives the _actual_ volume:\n",
    "\n",
    "\\begin{equation}\n",
    "V = \\frac{ZRT}{P}\n",
    "\\end{equation}\n",
    "\n",
    "while the ideal gas law gives the _ideal_ volume:\n",
    "\n",
    "\\begin{equation}\n",
    "V^{ID}=\\frac{RT}{P}\n",
    "\\end{equation}\n",
    "\n",
    "Substituting V and V$^{ID}$ into the definition of the residual volume gives:\n",
    "\n",
    "\\begin{equation}\n",
    "V^{R}=\\frac{RT}{P}\\left(Z-1\\right)\n",
    "\\end{equation}"
   ]
  },
  {
   "cell_type": "code",
   "execution_count": 4,
   "metadata": {},
   "outputs": [],
   "source": [
    "# compute residual volume -\n",
    "Z = part_a_table[!,:Z][1]# grab the Z from the DataFrame\n",
    "(VI,VR) = compute_residual_volume(T,P,Z);"
   ]
  },
  {
   "cell_type": "code",
   "execution_count": 25,
   "metadata": {},
   "outputs": [
    {
     "data": {
      "text/plain": [
       "(1.696056, -0.2059036897295503)"
      ]
     },
     "execution_count": 25,
     "metadata": {},
     "output_type": "execute_result"
    }
   ],
   "source": [
    "(VI,VR)"
   ]
  },
  {
   "cell_type": "markdown",
   "metadata": {},
   "source": [
    "c) Compute the _actual_ molar volume V (L/mol) of Cornellium at T = 510K and P = 25 bar. \n",
    "The _actual_ volume is given by:\n",
    "\n",
    "\\begin{equation}\n",
    "V = V^{R} + V^{ID}\n",
    "\\end{equation}"
   ]
  },
  {
   "cell_type": "code",
   "execution_count": 24,
   "metadata": {},
   "outputs": [
    {
     "data": {
      "text/plain": [
       "1.4901523102704497"
      ]
     },
     "execution_count": 24,
     "metadata": {},
     "output_type": "execute_result"
    }
   ],
   "source": [
    "V = VI+VR"
   ]
  },
  {
   "cell_type": "markdown",
   "metadata": {},
   "source": [
    "d) What is the % error between _actual_ and _ideal_ molar volumes of Cornellium? __(not included on Q7)__"
   ]
  },
  {
   "cell_type": "code",
   "execution_count": 29,
   "metadata": {},
   "outputs": [
    {
     "data": {
      "text/plain": [
       "13.817627118410506"
      ]
     },
     "execution_count": 29,
     "metadata": {},
     "output_type": "execute_result"
    }
   ],
   "source": [
    "error = abs((V-VI))/(V)*100"
   ]
  },
  {
   "cell_type": "code",
   "execution_count": null,
   "metadata": {},
   "outputs": [],
   "source": []
  }
 ],
 "metadata": {
  "kernelspec": {
   "display_name": "Julia 1.5.1",
   "language": "julia",
   "name": "julia-1.5"
  },
  "language_info": {
   "file_extension": ".jl",
   "mimetype": "application/julia",
   "name": "julia",
   "version": "1.5.2"
  }
 },
 "nbformat": 4,
 "nbformat_minor": 2
}
