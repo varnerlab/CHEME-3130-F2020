{
 "cells": [
  {
   "cell_type": "markdown",
   "metadata": {},
   "source": [
    "### Net present value (NPV) calculations\n",
    "The net present value (NPV) of an asset (or project) can be used to evaluate the relative value of the asset (or project). The NPV can be used to rank-order which assets (or projects) are worthy of investment in a set of possible competing alternatives. NPV is the net cash flow for each time period discounted back to the present value:\n",
    "\n",
    "$$ NPV = CF_{1} + \\sum_{j=1}^{T}\\left(\\frac{1}{d_{j}}\\right)\\cdot{CF_{j}} $$ \n",
    "\n",
    "where the discount $d_{j}$ is given by:\n",
    "\n",
    "$$ d_{j} = \\left[\\prod_{k=1}^{j-1}(1+r_{k+1,k})\\right] $$\n",
    "\n",
    "and $r_{k+1,k}$ denotes the discount rate between time-period $k$ and $k+1$."
   ]
  },
  {
   "cell_type": "markdown",
   "metadata": {},
   "source": [
    "#### NPV example from MIT 15.401\n",
    "Your firm spends 800,000 USD annually for electricity at its Boston headquarters. Johnson Controls offers to install a new computer-controlled lighting system that will reduce electric bills by 90,000 USD in each of the next three years. If the system costs 230,000 USD fully installed, is this a good investment?"
   ]
  },
  {
   "cell_type": "code",
   "execution_count": 10,
   "metadata": {},
   "outputs": [],
   "source": [
    "# include -\n",
    "using PyPlot"
   ]
  },
  {
   "cell_type": "code",
   "execution_count": 27,
   "metadata": {},
   "outputs": [],
   "source": [
    "# problem setup -\n",
    "\n",
    "# lifetime = 3 future years (period of time to payback the investment)\n",
    "T = 3\n",
    "\n",
    "# discount rate: risk-free interest rate (alternative investment: take $230,000 and invest at the risk-free rate)\n",
    "# assume constant over the payback lifetime -\n",
    "discount_rate = 0.10\n",
    "\n",
    "# initialize -\n",
    "# we pay in year 1: $230K (out, -ve)\n",
    "# we save in year(s) 2,3 and 4: 90K (in,+ve)\n",
    "CF_array = [-230.0,90,90,90]\n",
    "\n",
    "# initialize NPV -\n",
    "NPV = 0.0\n",
    "\n",
    "# main -\n",
    "discount_array = ones(T+1)\n",
    "for time_index = 2:(T+1)\n",
    "    tmp_term = (1+discount_rate)^(time_index-1)\n",
    "    discount_array[time_index] = tmp_term\n",
    "end"
   ]
  },
  {
   "cell_type": "code",
   "execution_count": 28,
   "metadata": {},
   "outputs": [
    {
     "data": {
      "text/plain": [
       "4-element Array{Float64,1}:\n",
       " -230.0\n",
       "   81.81818181818181\n",
       "   74.38016528925618\n",
       "   67.61833208114197"
      ]
     },
     "execution_count": 28,
     "metadata": {},
     "output_type": "execute_result"
    }
   ],
   "source": [
    "# what is the PV?\n",
    "PV = CF_array.*(1.0./discount_array)"
   ]
  },
  {
   "cell_type": "code",
   "execution_count": 29,
   "metadata": {},
   "outputs": [
    {
     "data": {
      "text/plain": [
       "-6.183320811420032"
      ]
     },
     "execution_count": 29,
     "metadata": {},
     "output_type": "execute_result"
    }
   ],
   "source": [
    "NPV = sum(PV)"
   ]
  },
  {
   "cell_type": "markdown",
   "metadata": {},
   "source": [
    "The NPV for the proposed project is positive, meaning it is a better investment than the null project of investing the \\$230K at 4% per year"
   ]
  },
  {
   "cell_type": "markdown",
   "metadata": {},
   "source": [
    "#### Q1: How does the NPV change if the discount rate changes?\n",
    "Let's suppose the discount rate increases to 10\\%, does this change our decision to invest?"
   ]
  },
  {
   "cell_type": "markdown",
   "metadata": {},
   "source": [
    "#### Q2: What is the hurdle rate for this project?\n",
    "Let's search for alternative investments - what rate would we need to make this project neutral? (NPV = 0)"
   ]
  },
  {
   "cell_type": "code",
   "execution_count": null,
   "metadata": {},
   "outputs": [],
   "source": []
  }
 ],
 "metadata": {
  "kernelspec": {
   "display_name": "Julia 1.5.1",
   "language": "julia",
   "name": "julia-1.5"
  },
  "language_info": {
   "file_extension": ".jl",
   "mimetype": "application/julia",
   "name": "julia",
   "version": "1.5.1"
  }
 },
 "nbformat": 4,
 "nbformat_minor": 4
}
