{
 "cells": [
  {
   "cell_type": "markdown",
   "metadata": {},
   "source": [
    "### Example: Flash Separation Calculation (ideal vapor and liquid)"
   ]
  },
  {
   "cell_type": "markdown",
   "metadata": {},
   "source": [
    "<img src=\"./figs/FlashDrum-Diagram-F20.pdf\">"
   ]
  },
  {
   "cell_type": "code",
   "execution_count": 2,
   "metadata": {},
   "outputs": [
    {
     "name": "stderr",
     "output_type": "stream",
     "text": [
      "\u001b[32m\u001b[1m Activating\u001b[22m\u001b[39m environment at `~/Desktop/julia_work/CHEME-3130-F2020/Project.toml`\n"
     ]
    }
   ],
   "source": [
    "# include\n",
    "include(\"Include.jl\");"
   ]
  },
  {
   "cell_type": "code",
   "execution_count": 8,
   "metadata": {},
   "outputs": [],
   "source": [
    "# specify some constants -\n",
    "P1SAT = 2.15;    # bar\n",
    "P2SAT = 0.51;    # bar\n",
    "P = 0.74;        # bar\n",
    "z1 = 0.25;       # Feed component 1\n",
    "z2 = 0.75;       # Feed compoonent 2\n",
    "Fdot = 1.0;      # mol/s\n",
    "Vdot = 0.40;     # mol/s fraction of feed vaporized\n",
    "Ldot = 0.60;     # mol/s"
   ]
  },
  {
   "cell_type": "code",
   "execution_count": 4,
   "metadata": {},
   "outputs": [
    {
     "data": {
      "text/plain": [
       "estimate_liquid_composition (generic function with 1 method)"
      ]
     },
     "execution_count": 4,
     "metadata": {},
     "output_type": "execute_result"
    }
   ],
   "source": [
    "function estimate_liquid_composition()\n",
    "\n",
    "    # compute 1, the use binary constraint for 2\n",
    "    x1 = z1/((P1SAT/P)*(Vdot/Fdot)+Ldot/Fdot)\n",
    "    x2 = 1 - x1\n",
    "\n",
    "    # return the liquid composition -\n",
    "    return (x1,x2)\n",
    "end"
   ]
  },
  {
   "cell_type": "code",
   "execution_count": 5,
   "metadata": {},
   "outputs": [
    {
     "data": {
      "text/plain": [
       "estimate_vapor_composition (generic function with 1 method)"
      ]
     },
     "execution_count": 5,
     "metadata": {},
     "output_type": "execute_result"
    }
   ],
   "source": [
    "function estimate_vapor_composition(x1,x2)\n",
    "\n",
    "    # use the fugacity matching condition to find y1, and the binary constraint to find y2\n",
    "    y1 = (1/P)*x1*P1SAT\n",
    "    y2 = 1 - y1\n",
    "\n",
    "    # return the vapor phase composition\n",
    "    return (y1,y2)\n",
    "end"
   ]
  },
  {
   "cell_type": "code",
   "execution_count": 9,
   "metadata": {},
   "outputs": [
    {
     "data": {
      "text/plain": [
       "(0.1418711656441718, 0.8581288343558282)"
      ]
     },
     "execution_count": 9,
     "metadata": {},
     "output_type": "execute_result"
    }
   ],
   "source": [
    "# compute the liquid phase, followed by vapor -\n",
    "(x1,x2) = estimate_liquid_composition()"
   ]
  },
  {
   "cell_type": "code",
   "execution_count": 10,
   "metadata": {},
   "outputs": [
    {
     "data": {
      "text/plain": [
       "(0.4121932515337423, 0.5878067484662577)"
      ]
     },
     "execution_count": 10,
     "metadata": {},
     "output_type": "execute_result"
    }
   ],
   "source": [
    "(y1,y2) = estimate_vapor_composition(x1,x2)"
   ]
  },
  {
   "cell_type": "markdown",
   "metadata": {},
   "source": [
    "### Graphical analysis using PXY diagram (P = 0.74 bar)"
   ]
  },
  {
   "cell_type": "markdown",
   "metadata": {},
   "source": [
    "<img src=\"./figs/PXY-Pentane-Cyclohexane-333K-GS.pdf\">"
   ]
  }
 ],
 "metadata": {
  "kernelspec": {
   "display_name": "Julia 1.4.2",
   "language": "julia",
   "name": "julia-1.4"
  },
  "language_info": {
   "file_extension": ".jl",
   "mimetype": "application/julia",
   "name": "julia",
   "version": "1.4.2"
  }
 },
 "nbformat": 4,
 "nbformat_minor": 4
}
